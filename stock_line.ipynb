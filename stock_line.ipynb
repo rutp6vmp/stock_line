{
 "cells": [
  {
   "cell_type": "markdown",
   "metadata": {},
   "source": [
    "# 程式說明\n",
    "作業環境: `jupyter notebook`\n",
    "\n",
    "使用語言:`Python3`\n",
    "\n",
    "請安裝`pip install twstock`   目前使用版本1.3.1\n",
    "\n",
    "### 拒絕存取應對方法:\n",
    "\n",
    "**注意:五秒鐘內連續存取會被ban掉**\n",
    "1.  更換IP:手機連線轉飛航模式後再切回來\n",
    "2.  增加連線時間:透過 `import time` 的`time sleep(5)` \n",
    "3.  VPN、無痕瀏覽的方法"
   ]
  },
  {
   "cell_type": "markdown",
   "metadata": {},
   "source": [
    "----\n",
    "### 一、讀取.txt函式\n",
    "* 1          將讀取寫成函式方便使用。\n",
    "* 3~12   為`try...except...`區塊，用來處理在開讀檔時可能遇到的錯誤。\n",
    "* 4~9     為開啟檔案的`with`區塊，在區塊結束時自動關閉檔案\n",
    "* 4          由於文字檔裡面只剩下逗號，因此開檔時並未指定編碼(使用預設的`cp950`或是`utf-8`開都可以)"
   ]
  },
  {
   "cell_type": "code",
   "execution_count": 1,
   "metadata": {},
   "outputs": [
    {
     "name": "stdout",
     "output_type": "stream",
     "text": [
      "讀入: ['2330,220,223\\n', '2317,66,69\\n', '1301,97,100']\n",
      "傳回: [['2330', 220.0, 223.0], ['2317', 66.0, 69.0], ['1301', 97.0, 100.0]]\n"
     ]
    }
   ],
   "source": [
    "def get_setting(): \n",
    "    res = [ ] #準備一個空的list來存放讀取及解析的結果\n",
    "    try :\n",
    "        with open('stock.txt',encoding='utf-8') as f : #用with 以讀取模式開啟檔案\n",
    "            slist = f.readlines()             #以行為單位讀取所有資料\n",
    "            print('讀入:',slist )                  #輸出讀到的資料以供確認\n",
    "            for lst in slist :                       #用for迴圈走訪每一個單位\n",
    "                s = lst.split(',')                   #將股票以逗號切割為串列\n",
    "                res.append([s[0].strip(),   float(s[1]),float(s[2])])\n",
    "               # ^將切割結果加到res^去除左右空白^^最後再將股價轉換為float\n",
    "        \n",
    "    except:\n",
    "        print('stock.txt 讀取錯誤')\n",
    "    return  res  \n",
    "    #傳回解析結果，但如果開檔或讀檔錯誤則會回傳[ ]\n",
    "\n",
    "stock = get_setting()#呼叫上面函式\n",
    "print('傳回:',stock)     #輸出傳回的結果\n"
   ]
  },
  {
   "cell_type": "markdown",
   "metadata": {},
   "source": [
    "---\n",
    "### 二、查詢歷史資料\n",
    "\n",
    "* date:\n",
    "     - 日期(datetime.datetime格式)\n",
    "* capacity:\n",
    "     - 總成交股數(單位:股)\n",
    "* turnover:\n",
    "     - 總成交金額(單位:新台幣/元)\n",
    "* open:\n",
    "     - 開盤價\n",
    "* high:\n",
    "     - 盤中最高價\n",
    "* low:\n",
    "     - 盤中最低價\n",
    "* price:\n",
    "     - 收盤價\n",
    "*  close: \n",
    "     - 收盤價(同上)\n",
    "* change:\n",
    "     - 漲跌價差\n",
    "* transaction:\n",
    "     - 成交筆數"
   ]
  },
  {
   "cell_type": "code",
   "execution_count": 2,
   "metadata": {},
   "outputs": [
    {
     "name": "stdout",
     "output_type": "stream",
     "text": [
      "[249.0, 242.5, 244.0, 243.0, 242.5, 242.0, 247.0, 250.0, 250.5, 254.5, 256.0, 252.0, 254.0, 259.0, 264.0, 264.0, 265.0, 265.0, 261.0, 261.0, 260.0, 259.5, 256.5, 251.5, 246.5, 248.5, 248.0, 253.5, 251.0, 246.5, 249.5]\n"
     ]
    }
   ],
   "source": [
    "import twstock\n",
    "import time\n",
    "\n",
    "stock = twstock.Stock('2330')#以台積電的股票代號 建立`Stock`物件\n",
    "print(stock.price)                    #輸出最近31天的收盤價"
   ]
  },
  {
   "cell_type": "markdown",
   "metadata": {},
   "source": [
    "輸出最近一日的資料"
   ]
  },
  {
   "cell_type": "code",
   "execution_count": 8,
   "metadata": {},
   "outputs": [
    {
     "name": "stdout",
     "output_type": "stream",
     "text": [
      "日期: 2019-08-14 00:00:00\n",
      "開盤價: 252.5\n",
      "最高價: 254.0\n",
      "最低價: 249.5\n"
     ]
    }
   ],
   "source": [
    "print('日期:',stock.date[-1])\n",
    "print('開盤價:',stock.open[-1])\n",
    "print('最高價:',stock.high[-1])\n",
    "print('最低價:',stock.low[-1])"
   ]
  },
  {
   "cell_type": "markdown",
   "metadata": {},
   "source": [
    "使用 `fetch()`可以取得指定區間的歷史資料，再用上一個方法讀取內容。"
   ]
  },
  {
   "cell_type": "code",
   "execution_count": 22,
   "metadata": {
    "scrolled": true
   },
   "outputs": [],
   "source": [
    "stock = twstock.Stock('2330')\n",
    "#stock.fetch(2019,5)                #2019年五月份的資訊\n",
    "#stock.fetch_31()                      #最近31天的資料\n",
    "#stock.fetch_from(2018,9)        # 取得2019,9月至今的資料"
   ]
  },
  {
   "cell_type": "markdown",
   "metadata": {},
   "source": [
    "---\n",
    "### 三、 股票分析與四大賣點\n",
    "\n",
    "#### 四大賣點原則為:(小括號中為賣點)\n",
    "1. 量大收紅(黑)\n",
    "2. 量縮價不跌(價跌)\n",
    "3. 三日均價由下往上(由上往下)\n",
    "4. 三日均價大於(小於)六日均價"
   ]
  },
  {
   "cell_type": "markdown",
   "metadata": {},
   "source": [
    "#### 移動平均(wiki)\n",
    "[https://zh.wikipedia.org/wiki/%E7%A7%BB%E5%8B%95%E5%B9%B3%E5%9D%87 ]"
   ]
  },
  {
   "cell_type": "code",
   "execution_count": 4,
   "metadata": {},
   "outputs": [
    {
     "name": "stdout",
     "output_type": "stream",
     "text": [
      "[244.2, 242.8, 243.7, 244.9, 246.4, 248.8, 251.6, 252.6, 253.4, 255.1, 257.0, 258.6, 261.2, 263.4, 263.8, 263.2, 262.4, 261.3, 259.6, 257.7, 254.8, 252.5, 250.2, 249.6, 249.5, 249.5, 249.7]\n"
     ]
    }
   ],
   "source": [
    "import twstock\n",
    "stock = twstock.Stock('2330')\n",
    "print(stock.moving_average(stock.price,5))#計算每天的五日移動平均收盤價"
   ]
  },
  {
   "cell_type": "markdown",
   "metadata": {},
   "source": [
    "#### 呼叫`BestFourPoint()`\n",
    "\n",
    "如果是買點，會回傳(`True`，符合的原則)，若賣點回傳(`False`，符合的原則)，如果都不符合則回傳`None`"
   ]
  },
  {
   "cell_type": "code",
   "execution_count": 6,
   "metadata": {},
   "outputs": [
    {
     "name": "stdout",
     "output_type": "stream",
     "text": [
      "(False, '量大收黑, 三日均價小於六日均價')\n"
     ]
    }
   ],
   "source": [
    "bfp = twstock.BestFourPoint(stock)#以stock建立四大賣點\n",
    "print(bfp.best_four_point())          #判斷是否為四大賣點"
   ]
  },
  {
   "cell_type": "markdown",
   "metadata": {},
   "source": [
    "---\n",
    "### 四、查詢即時交易資訊"
   ]
  },
  {
   "cell_type": "code",
   "execution_count": 12,
   "metadata": {
    "scrolled": true
   },
   "outputs": [
    {
     "name": "stdout",
     "output_type": "stream",
     "text": [
      "{'timestamp': 1565764200.0, 'info': {'code': '2330', 'channel': '2330.tw', 'name': '台積電', 'fullname': '台灣積體電路製造股份有限公司', 'time': '2019-08-14 14:30:00'}, 'realtime': {'latest_trade_price': '249.50', 'trade_volume': '4831', 'accumulate_trade_volume': '35180', 'best_bid_price': ['249.50', '249.00', '248.50', '248.00', '247.50'], 'best_bid_volume': ['3044', '1077', '740', '1066', '589'], 'best_ask_price': ['250.00', '250.50', '251.00', '251.50', '252.00'], 'best_ask_volume': ['403', '566', '435', '1344', '1694'], 'open': '252.50', 'high': '254.00', 'low': '249.50'}, 'success': True}\n"
     ]
    }
   ],
   "source": [
    "import twstock\n",
    "rt = twstock.realtime.get('2330') #取得台積電股票\n",
    "if  ( rt ['success'] ):                         #如果讀取成功(rt 為一個dict)\n",
    "    print(rt)"
   ]
  },
  {
   "cell_type": "markdown",
   "metadata": {},
   "source": [
    "---\n",
    "# 完整程式碼"
   ]
  },
  {
   "cell_type": "markdown",
   "metadata": {},
   "source": [
    "#### 程式說明:\n",
    "* 5~7 判斷如果讀取成功，就回傳內容為(股票名稱，即時價格)的list，讀取失敗就回傳(False,False)\n",
    "\n",
    "* 13 函式會回傳(Ture 或 False ，符合的原則)，若未符合買點則回傳None\n",
    "\n",
    "* 14~15 判斷若為bp為真 (不為None)，就再判斷bp[0]為真時傳回('買進',bp[1]),其中的bp[1]為符合原則。\n",
    "\n",
    "* 19 由於`get_price()`會傳回2個元素的tuple,因此等號左邊可以用2個變數來承接(多重指定,參見第二章補充學習)\n",
    "\n",
    "* 20 `get_best()`同樣會傳回2個元素的tuple,因此用act及note變數來承接。"
   ]
  },
  {
   "cell_type": "code",
   "execution_count": 25,
   "metadata": {},
   "outputs": [
    {
     "name": "stdout",
     "output_type": "stream",
     "text": [
      "台積電 | 249.5 | 賣出 | 量大收黑, 三日均價小於六日均價\n"
     ]
    }
   ],
   "source": [
    "import twstock\n",
    "\n",
    "def get_price(stockid):                             # 取得股票名稱和及時股價\n",
    "    rt = twstock.realtime.get(stockid)   # 取得台積電的及時交易資訊\n",
    "    if rt['success']:                                         # 如果讀取成功\n",
    "        return (rt['info']['name'],                 #傳回 (股票名稱, 及時價格)\n",
    "                float(rt['realtime']['latest_trade_price']))\n",
    "    else:\n",
    "        return (False, False)\n",
    "\n",
    "def get_best(stockid):                             # 檢查是否符合四大買賣點\n",
    "    stock = twstock.Stock(stockid)\n",
    "    bp = twstock.BestFourPoint(stock).best_four_point()\n",
    "    if(bp):\n",
    "        return ('買進' if bp[0] else '賣出', bp[1])  #傳回買進或賣出的建議\n",
    "    else:\n",
    "        return (False, False)                 #都不符合\n",
    "\n",
    "name, price = get_price('2330')  #用 name 及 price 來承接傳回的 tuple\n",
    "act, why = get_best('2330')          #用 act 及 why 來承接傳回的四大買賣點 tuple\n",
    "print(name, price, act, why, sep=' | ')\n"
   ]
  },
  {
   "cell_type": "markdown",
   "metadata": {},
   "source": [
    "# 匯入IFTTT\n",
    "[https://ifttt.com ]\n",
    "--- \n",
    "用 `requests`模組發送Line通知"
   ]
  },
  {
   "cell_type": "markdown",
   "metadata": {},
   "source": [
    "* 4~8 將IFTTT的網址與參數串接起來，再串接前後多加了小括號以方便寫成多行的可讀性\n",
    "* 10~11 檢查IFTTT的回應文字，判斷是否傳送成功"
   ]
  },
  {
   "cell_type": "code",
   "execution_count": 34,
   "metadata": {},
   "outputs": [
    {
     "name": "stdout",
     "output_type": "stream",
     "text": [
      "已傳送 (包子, 999999, 高雄發大財) 到 Line\n",
      "IFTTT 的回應訊息： Congratulations! You've fired the toline event\n"
     ]
    }
   ],
   "source": [
    "import requests      # 匯入 requests 套件\n",
    "\n",
    "def send_ifttt(v1, v2, v3):   # 定義函式來向 IFTTT 發送 HTTP 要求\n",
    "    url = ('https://maker.ifttt.com/trigger/toline/with/' +\n",
    "          'key/cXbOXFY9BsXqqGBaAw-5NO' +\n",
    "          '?value1='+str(v1) +\n",
    "          '&value2='+str(v2) +\n",
    "          '&value3='+str(v3))\n",
    "    r = requests.get(url)      # 送出 HTTP GET 並取得網站的回應資料\n",
    "    if r.text[:5] == 'Congr':  # 回應的文字若以 Congr 開頭就表示成功了\n",
    "        print('已傳送 (' +str(v1)+', '+str(v2)+', '+str(v3)+ ') 到 Line')\n",
    "    return r.text\n",
    "\n",
    "ret = send_ifttt('包子', 999999, '高雄發大財')  #傳送 HTTP 請求到 IFTTT\n",
    "print('IFTTT 的回應訊息：', ret)     # 輸出 IFTTT 回應的文字\n"
   ]
  },
  {
   "cell_type": "code",
   "execution_count": null,
   "metadata": {
    "scrolled": true
   },
   "outputs": [
    {
     "name": "stdout",
     "output_type": "stream",
     "text": [
      "讀入: ['2330,220,223\\n', '2317,66,69\\n', '1301,97,100']\n",
      "檢查 : 台積電 股價 : 247.0 區間 : 220.0 ~ 223.0\n",
      "已傳送 (台積電, 247.0, 賣出(股價高於220.0)) 到 Line\n",
      "已傳送 (台積電, 247.0, 賣出(量大收黑, 三日均價小於六日均價)) 到 Line\n",
      "檢查 : 鴻海 股價 : 71.6 區間 : 66.0 ~ 69.0\n",
      "已傳送 (鴻海, 71.6, 賣出(股價高於66.0)) 到 Line\n",
      "已傳送 (鴻海, 71.6, 賣出(量大收黑, 三日均價小於六日均價)) 到 Line\n",
      "檢查 : 台塑 股價 : 91.3 區間 : 97.0 ~ 100.0\n",
      "已傳送 (台塑, 91.3, 買進(股價低於97.0)) 到 Line\n",
      "已傳送 (台塑, 91.3, 賣出(量縮價跌, 三日均價小於六日均價)) 到 Line\n",
      "---------------------\n",
      "檢查 : 台積電 股價 : 247.0 區間 : 220.0 ~ 223.0\n",
      "檢查 : 鴻海 股價 : 71.7 區間 : 66.0 ~ 69.0\n",
      "檢查 : 台塑 股價 : 91.2 區間 : 97.0 ~ 100.0\n",
      "---------------------\n"
     ]
    }
   ],
   "source": [
    "#------------------------------------------------------------------------------------\n",
    "# 函式總整理，可以直接copy轉成自訂模組stock_module.py\n",
    "# import  stock_module as m \n",
    "#也可用 slist = m.get_seting()  #呼叫指定的方法\n",
    "#------------------------------------------------------------------------------------\n",
    "\n",
    "def get_price(stockid):                             # 取得股票名稱和及時股價\n",
    "    rt = twstock.realtime.get(stockid)   # 取得台積電的及時交易資訊\n",
    "    if rt['success']:                                         # 如果讀取成功\n",
    "        return (rt['info']['name'],                 #傳回 (股票名稱, 及時價格)\n",
    "                float(rt['realtime']['latest_trade_price']))\n",
    "    else:\n",
    "        return (False, False)\n",
    "\n",
    "def get_best(stockid):                             # 檢查是否符合四大買賣點\n",
    "    stock = twstock.Stock(stockid)\n",
    "    bp = twstock.BestFourPoint(stock).best_four_point()\n",
    "    if(bp):\n",
    "        return ('買進' if bp[0] else '賣出', bp[1])  #傳回買進或賣出的建議\n",
    "    else:\n",
    "        return (False, False)                 #都不符合\n",
    "\n",
    "\n",
    "\n",
    "\n",
    "def send_ifttt(v1, v2, v3):   # 定義函式來向 IFTTT 發送 HTTP 要求\n",
    "    url = ('https://maker.ifttt.com/trigger/toline/with/' +\n",
    "          'key/cXbOXFY9BsXqqGBaAw-5NO' +\n",
    "          '?value1='+str(v1) +\n",
    "          '&value2='+str(v2) +\n",
    "          '&value3='+str(v3))\n",
    "    r = requests.get(url)      # 送出 HTTP GET 並取得網站的回應資料\n",
    "    if r.text[:5] == 'Congr':  # 回應的文字若以 Congr 開頭就表示成功了\n",
    "        print('已傳送 (' +str(v1)+', '+str(v2)+', '+str(v3)+ ') 到 Line')\n",
    "    return r.text\n",
    "\n",
    "def get_setting(): \n",
    "    res = [ ] #準備一個空的list來存放讀取及解析的結果\n",
    "    try :\n",
    "        with open('stock.txt',encoding='utf-8') as f : #用with 以讀取模式開啟檔案\n",
    "            slist = f.readlines()             #以行為單位讀取所有資料\n",
    "            print('讀入:',slist )                  #輸出讀到的資料以供確認\n",
    "            for lst in slist :                       #用for迴圈走訪每一個單位\n",
    "                s = lst.split(',')                   #將股票以逗號切割為串列\n",
    "                res.append([s[0].strip(),   float(s[1]),float(s[2])])\n",
    "               # ^將切割結果加到res^去除左右空白^^最後再將股價轉換為float\n",
    "        \n",
    "    except:\n",
    "        print('stock.txt 讀取錯誤')\n",
    "    return  res  \n",
    "    #傳回解析結果，但如果開檔或讀檔錯誤則會回傳[ ]\n",
    "\n",
    "    \n",
    "#--------------------------------------------------------------------------------------------------------------\n",
    "import time          #避免被BAN掉 ，使用sleep()來調整時間\n",
    "import requests\n",
    "import twstock\n",
    "\n",
    "slist = get_setting()#呼叫匯入模組中的函式取得股票設定資料\n",
    "cnt = len(slist)          #計算有幾支股票\n",
    "\n",
    "log1 = []                       #紀錄曾經傳送過的股票高或低於期望價的訊息，以避免重複傳送\n",
    "log2 = []                        #紀錄曾經傳送過符合四大買賣點的訊息，以避免重複傳送\n",
    "\n",
    "for i in range(cnt):           #為每支股票加入對應的訊息\n",
    "    log1.append('')\n",
    "    log2.append('')\n",
    "\n",
    "check_cnt = 20               # 要檢查幾次(20*3分鐘 = 60分鐘)\n",
    "while True:\n",
    "    for i in range(cnt):   # 走訪每一支股票\n",
    "        id , low , high = slist [ i ] #讀出股票的代號、期望買進價格、期望賣出價格\n",
    "        name , price = get_price(id) #讀取股票名稱和即時價格\n",
    "        print('檢查 :' ,name ,'股價 :' ,price,'區間 :',low,'~',high)\n",
    "        if price <= low :  # 如果即時股票到達期望買點\n",
    "            if log1[ i ]  != '買進':#檢查前一次傳送訊息，避免重複傳送\n",
    "                send_ifttt(name,price,'買進(股價低於'+str(low)+')')\n",
    "                log1[i] = '買進'  #紀錄傳送訊息，以避免重複傳送\n",
    "            \n",
    "        elif price >= high :#如果即時股價到達期望賣點\n",
    "            if log1[i]  != '賣出':#檢查前一次傳送訊息\n",
    "                send_ifttt(name,price,'賣出(股價高於'+str(low)+')')\n",
    "                log1[i] = '賣出' #紀錄傳送訊息避免重複傳送\n",
    "        act , why = get_best(id)#檢查四大賣點\n",
    "        if why :                             #如果符合四大賣點\n",
    "            if log2[i] != why:\n",
    "                send_ifttt(name ,price ,act + '('+why+')' )\n",
    "                log2[i ] = why   #同上記錄與檢查\n",
    "    \n",
    "    print('---------------------')\n",
    "    check_cnt -= 1                                #將計數器減1\n",
    "    if check_cnt == 0:break              # 檢查計數器為0時即離開迴圈，結束程式\n",
    "    time.sleep(180)                              #每3秒檢查一次"
   ]
  }
 ],
 "metadata": {
  "kernelspec": {
   "display_name": "Python 3",
   "language": "python",
   "name": "python3"
  },
  "language_info": {
   "codemirror_mode": {
    "name": "ipython",
    "version": 3
   },
   "file_extension": ".py",
   "mimetype": "text/x-python",
   "name": "python",
   "nbconvert_exporter": "python",
   "pygments_lexer": "ipython3",
   "version": "3.7.3"
  }
 },
 "nbformat": 4,
 "nbformat_minor": 2
}
